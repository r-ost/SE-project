{
 "cells": [
  {
   "cell_type": "code",
   "execution_count": 2,
   "id": "3d996f90",
   "metadata": {},
   "outputs": [],
   "source": [
    "import pandas as pd\n",
    "from minimal_rules import find_minimal_rules, generate_prolog_rule\n",
    "from rough_sets import find_reducts"
   ]
  },
  {
   "cell_type": "code",
   "execution_count": 5,
   "id": "67ec401d",
   "metadata": {},
   "outputs": [],
   "source": [
    "csv_path = r\"..\\baza_wiedzy\\csv\\nieruchomosci.csv\"\n",
    "output_path = r\"..\\reguly\\reguly_minimalne.pl\""
   ]
  },
  {
   "cell_type": "markdown",
   "id": "c8c4c809",
   "metadata": {},
   "source": [
    "1. Find reducts"
   ]
  },
  {
   "cell_type": "code",
   "execution_count": 21,
   "id": "ae113178",
   "metadata": {},
   "outputs": [
    {
     "name": "stdout",
     "output_type": "stream",
     "text": [
      "Analysis Results:\n",
      "Core attributes: ['Typ']\n",
      "Number of reducts found: 2\n",
      "All reducts: [['Typ', 'Lokalizacja'], ['Typ', 'TypParking']]\n",
      "Dataset is consistent: True\n",
      "Full dependency degree: 1.000\n",
      "\n",
      "Reduct details:\n",
      "  reduct_1: ['Typ', 'Lokalizacja'] (dependency: 1.000)\n",
      "  reduct_2: ['Typ', 'TypParking'] (dependency: 1.000)\n"
     ]
    }
   ],
   "source": [
    "sample_data = pd.read_csv(csv_path, sep=',')\n",
    "\n",
    "# keep only 'Standard', 'Typ', 'Lokalizacja', 'Winda', 'Parking', 'TypParking', 'Opis' columns ('Opis' column is redundant)\n",
    "sample_data = sample_data[['Standard', 'Typ', 'Lokalizacja', 'Winda', 'Parking', 'TypParking', 'Opis']]\n",
    "\n",
    "# Analyze the sample dataset\n",
    "results = find_reducts(sample_data, 'Standard')\n",
    "\n",
    "print(\"Analysis Results:\")\n",
    "print(f\"Core attributes: {results['core_attributes']}\")\n",
    "print(f\"Number of reducts found: {results['number_of_reducts']}\")\n",
    "print(f\"All reducts: {results['all_reducts']}\")\n",
    "print(f\"Dataset is consistent: {results['is_consistent']}\")\n",
    "print(f\"Full dependency degree: {results['full_dependency_degree']:.3f}\")\n",
    "print()\n",
    "\n",
    "print(\"Reduct details:\")\n",
    "for reduct_name, details in results['reduct_details'].items():\n",
    "    print(f\"  {reduct_name}: {details['attributes']} \"\n",
    "            f\"(dependency: {details['dependency_degree']:.3f})\")"
   ]
  },
  {
   "cell_type": "markdown",
   "id": "f4a1a428",
   "metadata": {},
   "source": [
    "2. Generate minimal rules for 'Standard' column"
   ]
  },
  {
   "cell_type": "code",
   "execution_count": 22,
   "id": "45dcdcbd",
   "metadata": {},
   "outputs": [
    {
     "name": "stdout",
     "output_type": "stream",
     "text": [
      "Generating minimal rules using the reduct: ['Typ', 'Lokalizacja']\n",
      "\n",
      "Finding minimal rules for 'luksusowy'\n"
     ]
    },
    {
     "name": "stderr",
     "output_type": "stream",
     "text": [
      "Combining 2 rules: 100%|██████████| 10/10 [00:00<00:00, 1910.24it/s]\n"
     ]
    },
    {
     "name": "stdout",
     "output_type": "stream",
     "text": [
      "Best rule for target value 'luksusowy': ([('Typ', '=', 'dom')], 1.0)\n",
      "\n",
      "Finding minimal rules for 'wysoki'\n"
     ]
    },
    {
     "name": "stderr",
     "output_type": "stream",
     "text": [
      "Combining 2 rules: 100%|██████████| 10/10 [00:00<00:00, 1863.97it/s]\n"
     ]
    },
    {
     "name": "stdout",
     "output_type": "stream",
     "text": [
      "Best rule for target value 'wysoki': ([('Typ', '=', 'mieszkanie'), ('Lokalizacja', '=', 'centrum')], 1.0)\n",
      "\n",
      "Finding minimal rules for 'niski'\n"
     ]
    },
    {
     "name": "stderr",
     "output_type": "stream",
     "text": [
      "Combining 2 rules: 100%|██████████| 10/10 [00:00<00:00, 1962.61it/s]\n"
     ]
    },
    {
     "name": "stdout",
     "output_type": "stream",
     "text": [
      "Best rule for target value 'niski': ([('Lokalizacja', '=', 'przedmiescia')], 1.0)\n",
      "\n",
      "Finding minimal rules for 'sredni'\n"
     ]
    },
    {
     "name": "stderr",
     "output_type": "stream",
     "text": [
      "Combining 2 rules: 100%|██████████| 10/10 [00:00<00:00, 2173.44it/s]"
     ]
    },
    {
     "name": "stdout",
     "output_type": "stream",
     "text": [
      "Best rule for target value 'sredni': ([('Lokalizacja', '=', 'poza centrum')], 1.0)\n",
      "Prolog rules saved to ..\\reguly\\reguly_minimalne.pl\n"
     ]
    },
    {
     "name": "stderr",
     "output_type": "stream",
     "text": [
      "\n"
     ]
    }
   ],
   "source": [
    "df = pd.read_csv(csv_path, sep=',')\n",
    "\n",
    "first_reduct = next(iter(results['reduct_details'].values()))\n",
    "print(f\"Generating minimal rules using the reduct: {first_reduct['attributes']}\")\n",
    "\n",
    "target_column = 'Standard'\n",
    "prolog_rules = []\n",
    "for target_value in ['luksusowy', 'wysoki', 'niski', 'sredni']:\n",
    "    print(f\"\\nFinding minimal rules for '{target_value}'\")\n",
    "    minimal_rules = find_minimal_rules(df, first_reduct['attributes'], target_column, target_value, min_accuracy=0.7)\n",
    "    \n",
    "    best_rule = max(minimal_rules, key=lambda x: x[1])\n",
    "    print(f\"Best rule for target value '{target_value}': {best_rule}\")\n",
    "    \n",
    "    rule = generate_prolog_rule(best_rule, 'Nieruchomosc', target_column, target_value)\n",
    "    prolog_rules.append(rule)\n",
    "    \n",
    "with open(output_path, 'w') as f:\n",
    "    f.write(\"% autogenerated using generate_minimal_rules.ipynb\\n\\n\")\n",
    "    for rule in prolog_rules:\n",
    "        f.write(rule + '\\n\\n')\n",
    "print(f\"Prolog rules saved to {output_path}\")"
   ]
  }
 ],
 "metadata": {
  "kernelspec": {
   "display_name": "Python 3",
   "language": "python",
   "name": "python3"
  },
  "language_info": {
   "codemirror_mode": {
    "name": "ipython",
    "version": 3
   },
   "file_extension": ".py",
   "mimetype": "text/x-python",
   "name": "python",
   "nbconvert_exporter": "python",
   "pygments_lexer": "ipython3",
   "version": "3.13.3"
  }
 },
 "nbformat": 4,
 "nbformat_minor": 5
}
